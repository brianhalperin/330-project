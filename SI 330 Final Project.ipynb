{
 "cells": [
  {
   "cell_type": "markdown",
   "metadata": {},
   "source": [
    "# SI 330 Final Project - Brian Halperin\n",
    "\n",
    "# 2016 Presidential Candidate Tweet Sentiment \n"
   ]
  },
  {
   "cell_type": "markdown",
   "metadata": {},
   "source": [
    "I will be comparing the sentiment analyis of Donald Trump tweets and Hilary Clinton tweets before and after the election. I am using a dataset which I downloaded from Kaggle.com which is a CSV file of both Hillary Clinton and Donald Trump tweets from January 5th, 2016 to September 28th 2016. In order to get their tweets from after September 28th and after November 8th, I will be using the Twitter API and Tweepy in order to easily scrape the tweets into a CSV file.\n",
    "\n",
    "I wanted to compare the sentiment between Hillary Clinton and Donald Trump because I thought it would be an interesting metric to look at when comparing the two. I want to find out who has changed more since the election and who was more negative or positive going into the election. My expectations are that Donald's tweets will be more negative than Hillary's."
   ]
  },
  {
   "cell_type": "code",
   "execution_count": 156,
   "metadata": {
    "collapsed": false
   },
   "outputs": [
    {
     "data": {
      "text/html": [
       "<img src=\"7919272-3x2-700x467.jpg\"/>"
      ],
      "text/plain": [
       "<IPython.core.display.Image object>"
      ]
     },
     "execution_count": 156,
     "metadata": {},
     "output_type": "execute_result"
    }
   ],
   "source": [
    "from IPython.display import Image\n",
    "from IPython.core.display import HTML \n",
    "Image(url= \"7919272-3x2-700x467.jpg\")"
   ]
  },
  {
   "cell_type": "code",
   "execution_count": 26,
   "metadata": {
    "collapsed": true
   },
   "outputs": [],
   "source": [
    "import pandas as pd \n",
    "from pandas import DataFrame\n",
    "import numpy as np\n",
    "import requests\n",
    "import json\n",
    "import csv"
   ]
  },
  {
   "cell_type": "markdown",
   "metadata": {},
   "source": [
    "Lets get our first dataset of tweets. The file is called \"tweets.csv\" and is 5.2 MB"
   ]
  },
  {
   "cell_type": "code",
   "execution_count": 4,
   "metadata": {
    "collapsed": false
   },
   "outputs": [
    {
     "data": {
      "text/html": [
       "<div>\n",
       "<table border=\"1\" class=\"dataframe\">\n",
       "  <thead>\n",
       "    <tr style=\"text-align: right;\">\n",
       "      <th></th>\n",
       "      <th>id</th>\n",
       "      <th>handle</th>\n",
       "      <th>text</th>\n",
       "      <th>is_retweet</th>\n",
       "      <th>original_author</th>\n",
       "      <th>time</th>\n",
       "      <th>in_reply_to_screen_name</th>\n",
       "      <th>in_reply_to_status_id</th>\n",
       "      <th>in_reply_to_user_id</th>\n",
       "      <th>is_quote_status</th>\n",
       "      <th>...</th>\n",
       "      <th>place_type</th>\n",
       "      <th>place_country_code</th>\n",
       "      <th>place_country</th>\n",
       "      <th>place_contained_within</th>\n",
       "      <th>place_attributes</th>\n",
       "      <th>place_bounding_box</th>\n",
       "      <th>source_url</th>\n",
       "      <th>truncated</th>\n",
       "      <th>entities</th>\n",
       "      <th>extended_entities</th>\n",
       "    </tr>\n",
       "  </thead>\n",
       "  <tbody>\n",
       "    <tr>\n",
       "      <th>0</th>\n",
       "      <td>780925634159796224</td>\n",
       "      <td>HillaryClinton</td>\n",
       "      <td>The question in this election: Who can put the...</td>\n",
       "      <td>False</td>\n",
       "      <td>NaN</td>\n",
       "      <td>2016-09-28T00:22:34</td>\n",
       "      <td>NaN</td>\n",
       "      <td>NaN</td>\n",
       "      <td>NaN</td>\n",
       "      <td>False</td>\n",
       "      <td>...</td>\n",
       "      <td>NaN</td>\n",
       "      <td>NaN</td>\n",
       "      <td>NaN</td>\n",
       "      <td>NaN</td>\n",
       "      <td>NaN</td>\n",
       "      <td>NaN</td>\n",
       "      <td>https://studio.twitter.com</td>\n",
       "      <td>False</td>\n",
       "      <td>{'media': [{'display_url': 'pic.twitter.com/Xr...</td>\n",
       "      <td>{'media': [{'display_url': 'pic.twitter.com/Xr...</td>\n",
       "    </tr>\n",
       "  </tbody>\n",
       "</table>\n",
       "<p>1 rows × 28 columns</p>\n",
       "</div>"
      ],
      "text/plain": [
       "                   id          handle  \\\n",
       "0  780925634159796224  HillaryClinton   \n",
       "\n",
       "                                                text is_retweet  \\\n",
       "0  The question in this election: Who can put the...      False   \n",
       "\n",
       "  original_author                 time in_reply_to_screen_name  \\\n",
       "0             NaN  2016-09-28T00:22:34                     NaN   \n",
       "\n",
       "   in_reply_to_status_id  in_reply_to_user_id is_quote_status  \\\n",
       "0                    NaN                  NaN           False   \n",
       "\n",
       "                         ...                         place_type  \\\n",
       "0                        ...                                NaN   \n",
       "\n",
       "   place_country_code  place_country  place_contained_within  \\\n",
       "0                 NaN            NaN                     NaN   \n",
       "\n",
       "   place_attributes place_bounding_box                  source_url truncated  \\\n",
       "0               NaN                NaN  https://studio.twitter.com     False   \n",
       "\n",
       "                                            entities  \\\n",
       "0  {'media': [{'display_url': 'pic.twitter.com/Xr...   \n",
       "\n",
       "                                   extended_entities  \n",
       "0  {'media': [{'display_url': 'pic.twitter.com/Xr...  \n",
       "\n",
       "[1 rows x 28 columns]"
      ]
     },
     "execution_count": 4,
     "metadata": {},
     "output_type": "execute_result"
    }
   ],
   "source": [
    "both_tweets = pd.read_csv('tweets.csv') \n",
    "both_tweets.head(1) #Show one entry"
   ]
  },
  {
   "cell_type": "markdown",
   "metadata": {},
   "source": [
    "Great. Now, lets filter down our columns so we don't have to deal with all of these extra columns."
   ]
  },
  {
   "cell_type": "code",
   "execution_count": 8,
   "metadata": {
    "collapsed": false
   },
   "outputs": [
    {
     "data": {
      "text/html": [
       "<div>\n",
       "<table border=\"1\" class=\"dataframe\">\n",
       "  <thead>\n",
       "    <tr style=\"text-align: right;\">\n",
       "      <th></th>\n",
       "      <th>handle</th>\n",
       "      <th>text</th>\n",
       "      <th>time</th>\n",
       "    </tr>\n",
       "  </thead>\n",
       "  <tbody>\n",
       "    <tr>\n",
       "      <th>0</th>\n",
       "      <td>HillaryClinton</td>\n",
       "      <td>The question in this election: Who can put the...</td>\n",
       "      <td>2016-09-28T00:22:34</td>\n",
       "    </tr>\n",
       "  </tbody>\n",
       "</table>\n",
       "</div>"
      ],
      "text/plain": [
       "           handle                                               text  \\\n",
       "0  HillaryClinton  The question in this election: Who can put the...   \n",
       "\n",
       "                  time  \n",
       "0  2016-09-28T00:22:34  "
      ]
     },
     "execution_count": 8,
     "metadata": {},
     "output_type": "execute_result"
    }
   ],
   "source": [
    "both_tweets = DataFrame(both_tweets,columns = ['handle','text','time'])\n",
    "both_tweets.head(1) "
   ]
  },
  {
   "cell_type": "markdown",
   "metadata": {},
   "source": [
    "Let's do some data manipulation on the time column so that we can just get the date without the time."
   ]
  },
  {
   "cell_type": "code",
   "execution_count": 9,
   "metadata": {
    "collapsed": true
   },
   "outputs": [],
   "source": [
    "def fix_time(time): #Define a function to strip last 10 characters.\n",
    "    time = time[0:10]\n",
    "    return time"
   ]
  },
  {
   "cell_type": "code",
   "execution_count": 13,
   "metadata": {
    "collapsed": false
   },
   "outputs": [
    {
     "data": {
      "text/html": [
       "<div>\n",
       "<table border=\"1\" class=\"dataframe\">\n",
       "  <thead>\n",
       "    <tr style=\"text-align: right;\">\n",
       "      <th></th>\n",
       "      <th>handle</th>\n",
       "      <th>text</th>\n",
       "      <th>time</th>\n",
       "    </tr>\n",
       "  </thead>\n",
       "  <tbody>\n",
       "    <tr>\n",
       "      <th>0</th>\n",
       "      <td>HillaryClinton</td>\n",
       "      <td>The question in this election: Who can put the...</td>\n",
       "      <td>2016-09-28</td>\n",
       "    </tr>\n",
       "    <tr>\n",
       "      <th>1</th>\n",
       "      <td>HillaryClinton</td>\n",
       "      <td>Last night, Donald Trump said not paying taxes...</td>\n",
       "      <td>2016-09-27</td>\n",
       "    </tr>\n",
       "    <tr>\n",
       "      <th>2</th>\n",
       "      <td>HillaryClinton</td>\n",
       "      <td>Couldn't be more proud of @HillaryClinton. Her...</td>\n",
       "      <td>2016-09-27</td>\n",
       "    </tr>\n",
       "    <tr>\n",
       "      <th>3</th>\n",
       "      <td>HillaryClinton</td>\n",
       "      <td>If we stand together, there's nothing we can't...</td>\n",
       "      <td>2016-09-27</td>\n",
       "    </tr>\n",
       "    <tr>\n",
       "      <th>4</th>\n",
       "      <td>HillaryClinton</td>\n",
       "      <td>Both candidates were asked about how they'd co...</td>\n",
       "      <td>2016-09-27</td>\n",
       "    </tr>\n",
       "    <tr>\n",
       "      <th>5</th>\n",
       "      <td>realDonaldTrump</td>\n",
       "      <td>Join me for a 3pm rally - tomorrow at the Mid-...</td>\n",
       "      <td>2016-09-27</td>\n",
       "    </tr>\n",
       "  </tbody>\n",
       "</table>\n",
       "</div>"
      ],
      "text/plain": [
       "            handle                                               text  \\\n",
       "0   HillaryClinton  The question in this election: Who can put the...   \n",
       "1   HillaryClinton  Last night, Donald Trump said not paying taxes...   \n",
       "2   HillaryClinton  Couldn't be more proud of @HillaryClinton. Her...   \n",
       "3   HillaryClinton  If we stand together, there's nothing we can't...   \n",
       "4   HillaryClinton  Both candidates were asked about how they'd co...   \n",
       "5  realDonaldTrump  Join me for a 3pm rally - tomorrow at the Mid-...   \n",
       "\n",
       "         time  \n",
       "0  2016-09-28  \n",
       "1  2016-09-27  \n",
       "2  2016-09-27  \n",
       "3  2016-09-27  \n",
       "4  2016-09-27  \n",
       "5  2016-09-27  "
      ]
     },
     "execution_count": 13,
     "metadata": {},
     "output_type": "execute_result"
    }
   ],
   "source": [
    "both_tweets['time'] = both_tweets['time'].apply(fix_time) #Apply function to time column.\n",
    "both_tweets.head(6)"
   ]
  },
  {
   "cell_type": "markdown",
   "metadata": {},
   "source": [
    "In order to do sentiment analyiss on the two candidates, we need to seperate their tweets from eachother. We can do this by creating two new dataframes with only Donald and only Hillary tweets."
   ]
  },
  {
   "cell_type": "code",
   "execution_count": 14,
   "metadata": {
    "collapsed": true
   },
   "outputs": [],
   "source": [
    "pre_hillary = both_tweets[both_tweets['handle']=='HillaryClinton']\n",
    "pre_donald = both_tweets[both_tweets['handle']=='realDonaldTrump']"
   ]
  },
  {
   "cell_type": "code",
   "execution_count": 16,
   "metadata": {
    "collapsed": false
   },
   "outputs": [
    {
     "data": {
      "text/html": [
       "<div>\n",
       "<table border=\"1\" class=\"dataframe\">\n",
       "  <thead>\n",
       "    <tr style=\"text-align: right;\">\n",
       "      <th></th>\n",
       "      <th>handle</th>\n",
       "      <th>text</th>\n",
       "      <th>time</th>\n",
       "    </tr>\n",
       "  </thead>\n",
       "  <tbody>\n",
       "    <tr>\n",
       "      <th>5</th>\n",
       "      <td>realDonaldTrump</td>\n",
       "      <td>Join me for a 3pm rally - tomorrow at the Mid-...</td>\n",
       "      <td>2016-09-27</td>\n",
       "    </tr>\n",
       "    <tr>\n",
       "      <th>8</th>\n",
       "      <td>realDonaldTrump</td>\n",
       "      <td>Once again, we will have a government of, by a...</td>\n",
       "      <td>2016-09-27</td>\n",
       "    </tr>\n",
       "  </tbody>\n",
       "</table>\n",
       "</div>"
      ],
      "text/plain": [
       "            handle                                               text  \\\n",
       "5  realDonaldTrump  Join me for a 3pm rally - tomorrow at the Mid-...   \n",
       "8  realDonaldTrump  Once again, we will have a government of, by a...   \n",
       "\n",
       "         time  \n",
       "5  2016-09-27  \n",
       "8  2016-09-27  "
      ]
     },
     "execution_count": 16,
     "metadata": {},
     "output_type": "execute_result"
    }
   ],
   "source": [
    "pre_donald.head(2)"
   ]
  },
  {
   "cell_type": "code",
   "execution_count": 17,
   "metadata": {
    "collapsed": false
   },
   "outputs": [
    {
     "data": {
      "text/html": [
       "<div>\n",
       "<table border=\"1\" class=\"dataframe\">\n",
       "  <thead>\n",
       "    <tr style=\"text-align: right;\">\n",
       "      <th></th>\n",
       "      <th>handle</th>\n",
       "      <th>text</th>\n",
       "      <th>time</th>\n",
       "    </tr>\n",
       "  </thead>\n",
       "  <tbody>\n",
       "    <tr>\n",
       "      <th>0</th>\n",
       "      <td>HillaryClinton</td>\n",
       "      <td>The question in this election: Who can put the...</td>\n",
       "      <td>2016-09-28</td>\n",
       "    </tr>\n",
       "    <tr>\n",
       "      <th>1</th>\n",
       "      <td>HillaryClinton</td>\n",
       "      <td>Last night, Donald Trump said not paying taxes...</td>\n",
       "      <td>2016-09-27</td>\n",
       "    </tr>\n",
       "  </tbody>\n",
       "</table>\n",
       "</div>"
      ],
      "text/plain": [
       "           handle                                               text  \\\n",
       "0  HillaryClinton  The question in this election: Who can put the...   \n",
       "1  HillaryClinton  Last night, Donald Trump said not paying taxes...   \n",
       "\n",
       "         time  \n",
       "0  2016-09-28  \n",
       "1  2016-09-27  "
      ]
     },
     "execution_count": 17,
     "metadata": {},
     "output_type": "execute_result"
    }
   ],
   "source": [
    "pre_hillary.head(2)"
   ]
  },
  {
   "cell_type": "markdown",
   "metadata": {},
   "source": [
    "Cool. Now we have all of Donald Trump's and Hillary Clinton's tweets from January 5th 2016 to September 5th 2016 in one dataframe. However, we are doing sentiment analyis based on tweets before and after the election so we need the tweets from September 5th and forward from both Donald Trump and Hillary Clinton. We can do this by using the twitter API and using a module called tweepy to easily make a CSV file based on their tweets. I've compiled this code in PyCharm as I found it difficult to pip install tweepy in the Jupyter Notebook.\n"
   ]
  },
  {
   "cell_type": "markdown",
   "metadata": {},
   "source": [
    "First, lets import tweepy and our CSV module. Next, lets make variables for our API information."
   ]
  },
  {
   "cell_type": "code",
   "execution_count": null,
   "metadata": {
    "collapsed": true
   },
   "outputs": [],
   "source": [
    "import tweepy\n",
    "import csv\n",
    "\n",
    "#Twitter API Information. Attained my making an account.\n",
    "consumer_key = \"jz2rnCUkEoxMwOdSotlVvkdPC\"\n",
    "consumer_secret = \"60Uwmgm6OAXgeryyNFbnBy815CRun3iatJtvy2JWDUcYj4R5h0\"\n",
    "access_key = \"1363213442-AfhSEqOMy6L6F8qJwuS9sdejqrTaCCL1KOzUpYS\"\n",
    "access_secret = \"8mXke5lhyUrFyRvBm9ZHVhhELQN6Ru345da8MnUnhv0E2\""
   ]
  },
  {
   "cell_type": "markdown",
   "metadata": {},
   "source": [
    "Now let's define a function that will get the most recent tweets from a given handle and write a CSV file with three fields, the tweet ID, the time of the tweet, and the content of the tweet."
   ]
  },
  {
   "cell_type": "code",
   "execution_count": null,
   "metadata": {
    "collapsed": true
   },
   "outputs": [],
   "source": [
    "#Get as many tweets as possible from the handle.\n",
    "def get_tweets(handle): \n",
    "    #Log into twitter API via information, start tweepy module.\n",
    "    auth = tweepy.OAuthHandler(consumer_key, consumer_secret)\n",
    "    auth.set_access_token(access_key, access_secret)\n",
    "    api = tweepy.API(auth)\n",
    "  \n",
    "    tweets = [] #Create list for tweets \n",
    "    new_tweets = api.user_timeline(screen_name = handle,count=200) #Make request for tweets. \n",
    "    tweets.extend(new_tweets) #Save tweets\n",
    "    oldest = tweets[-1].id - 1 #save id of the oldest tweet in order to prevent getting same tweets over and over.\n",
    "\n",
    "    while len(new_tweets) > 0: #Keep getting tweets\n",
    "        new_tweets = api.user_timeline(handle = handle,count=200,max_id=oldest)\n",
    "        tweets.extend(new_tweets) #save most recent tweets\n",
    "        oldest = tweets[-1].id - 1\n",
    "    \n",
    "    for tweet in tweets:    #Create Tweepy object for easy CSV entry\n",
    "        outtweets = [[tweet.id_str, tweet.created_at, tweet.text.encode('utf-8')]]\n",
    "        \n",
    "    with open('%s_tweets.csv' % handle, 'w') as f: #Save as a CSV with file name as the 'handle_tweets.csv'\n",
    "        writer = csv.writer(f)\n",
    "        writer.writerow([\"id\",\"created_at\",\"text\"])\n",
    "        writer.writerows(outtweets)\n",
    "    pass"
   ]
  },
  {
   "cell_type": "markdown",
   "metadata": {},
   "source": [
    "Great. Now let's call the function on Hilary's and Donald's handles."
   ]
  },
  {
   "cell_type": "code",
   "execution_count": null,
   "metadata": {
    "collapsed": true
   },
   "outputs": [],
   "source": [
    "get_tweets('Hillary_Clinton')\n",
    "get_tweets(\"realDonaldTrump\")"
   ]
  },
  {
   "cell_type": "markdown",
   "metadata": {},
   "source": [
    "Now, we have a list of tweets that was scrapped using Twitter's API and the Tweepy Module. Let's use pandas in order to load these CSV's into the Jupyter Notebook. The two datasets we downloaded are called HillaryClinton_tweets.csv and realDonaldTrump tweets and are 582kb, and 480kb respectfully. "
   ]
  },
  {
   "cell_type": "code",
   "execution_count": 71,
   "metadata": {
    "collapsed": true
   },
   "outputs": [],
   "source": [
    "hil_scrape = pd.read_csv(\"HillaryClinton_tweets.csv\")\n",
    "don_scrape = pd.read_csv(\"realDonaldTrump_tweets.csv\")"
   ]
  },
  {
   "cell_type": "code",
   "execution_count": 72,
   "metadata": {
    "collapsed": false
   },
   "outputs": [
    {
     "data": {
      "text/html": [
       "<div>\n",
       "<table border=\"1\" class=\"dataframe\">\n",
       "  <thead>\n",
       "    <tr style=\"text-align: right;\">\n",
       "      <th></th>\n",
       "      <th>id</th>\n",
       "      <th>created_at</th>\n",
       "      <th>text</th>\n",
       "    </tr>\n",
       "  </thead>\n",
       "  <tbody>\n",
       "    <tr>\n",
       "      <th>0</th>\n",
       "      <td>802721447026098176</td>\n",
       "      <td>2016-11-27 03:51:21</td>\n",
       "      <td>b'RT @marceelias: I just published \\xe2\\x80\\x9...</td>\n",
       "    </tr>\n",
       "    <tr>\n",
       "      <th>1</th>\n",
       "      <td>801888191276089344</td>\n",
       "      <td>2016-11-24 20:40:17</td>\n",
       "      <td>b'I was greeted by this heartwarming display o...</td>\n",
       "    </tr>\n",
       "  </tbody>\n",
       "</table>\n",
       "</div>"
      ],
      "text/plain": [
       "                   id           created_at  \\\n",
       "0  802721447026098176  2016-11-27 03:51:21   \n",
       "1  801888191276089344  2016-11-24 20:40:17   \n",
       "\n",
       "                                                text  \n",
       "0  b'RT @marceelias: I just published \\xe2\\x80\\x9...  \n",
       "1  b'I was greeted by this heartwarming display o...  "
      ]
     },
     "execution_count": 72,
     "metadata": {},
     "output_type": "execute_result"
    }
   ],
   "source": [
    "hil_scrape.head(2)"
   ]
  },
  {
   "cell_type": "code",
   "execution_count": 73,
   "metadata": {
    "collapsed": false
   },
   "outputs": [
    {
     "data": {
      "text/html": [
       "<div>\n",
       "<table border=\"1\" class=\"dataframe\">\n",
       "  <thead>\n",
       "    <tr style=\"text-align: right;\">\n",
       "      <th></th>\n",
       "      <th>id</th>\n",
       "      <th>created_at</th>\n",
       "      <th>text</th>\n",
       "    </tr>\n",
       "  </thead>\n",
       "  <tbody>\n",
       "    <tr>\n",
       "      <th>0</th>\n",
       "      <td>806214236053667842</td>\n",
       "      <td>2016-12-06 19:10:27</td>\n",
       "      <td>b'Masa said he would never do this had we (Tru...</td>\n",
       "    </tr>\n",
       "    <tr>\n",
       "      <th>1</th>\n",
       "      <td>806214078465245185</td>\n",
       "      <td>2016-12-06 19:09:49</td>\n",
       "      <td>b'Masa (SoftBank) of Japan has agreed to inves...</td>\n",
       "    </tr>\n",
       "  </tbody>\n",
       "</table>\n",
       "</div>"
      ],
      "text/plain": [
       "                   id           created_at  \\\n",
       "0  806214236053667842  2016-12-06 19:10:27   \n",
       "1  806214078465245185  2016-12-06 19:09:49   \n",
       "\n",
       "                                                text  \n",
       "0  b'Masa said he would never do this had we (Tru...  \n",
       "1  b'Masa (SoftBank) of Japan has agreed to inves...  "
      ]
     },
     "execution_count": 73,
     "metadata": {},
     "output_type": "execute_result"
    }
   ],
   "source": [
    "don_scrape.head(2)"
   ]
  },
  {
   "cell_type": "markdown",
   "metadata": {},
   "source": [
    "It looks like there is some data manipulation we need to do in order to fix our text. We need to remove the b' that is coming before every tweet. Let's also use our Fix_Time function to reformat the time. "
   ]
  },
  {
   "cell_type": "code",
   "execution_count": 74,
   "metadata": {
    "collapsed": false
   },
   "outputs": [],
   "source": [
    "def fix_text(text):\n",
    "    text = text[2:]\n",
    "    return text\n",
    "don_scrape['text']=don_scrape['text'].apply(fix_text)\n",
    "don_scrape['created_at'] = don_scrape['created_at'].apply(fix_time)\n",
    "hil_scrape['text']=hil_scrape['text'].apply(fix_text)\n",
    "hil_scrape['created_at'] = hil_scrape['created_at'].apply(fix_time)\n"
   ]
  },
  {
   "cell_type": "code",
   "execution_count": 75,
   "metadata": {
    "collapsed": false
   },
   "outputs": [
    {
     "data": {
      "text/html": [
       "<div>\n",
       "<table border=\"1\" class=\"dataframe\">\n",
       "  <thead>\n",
       "    <tr style=\"text-align: right;\">\n",
       "      <th></th>\n",
       "      <th>id</th>\n",
       "      <th>created_at</th>\n",
       "      <th>text</th>\n",
       "    </tr>\n",
       "  </thead>\n",
       "  <tbody>\n",
       "    <tr>\n",
       "      <th>0</th>\n",
       "      <td>802721447026098176</td>\n",
       "      <td>2016-11-27</td>\n",
       "      <td>RT @marceelias: I just published \\xe2\\x80\\x9cL...</td>\n",
       "    </tr>\n",
       "    <tr>\n",
       "      <th>1</th>\n",
       "      <td>801888191276089344</td>\n",
       "      <td>2016-11-24</td>\n",
       "      <td>I was greeted by this heartwarming display on ...</td>\n",
       "    </tr>\n",
       "    <tr>\n",
       "      <th>2</th>\n",
       "      <td>801887362787770368</td>\n",
       "      <td>2016-11-24</td>\n",
       "      <td>Hoping everyone has a safe &amp;amp; Happy Thanksg...</td>\n",
       "    </tr>\n",
       "  </tbody>\n",
       "</table>\n",
       "</div>"
      ],
      "text/plain": [
       "                   id  created_at  \\\n",
       "0  802721447026098176  2016-11-27   \n",
       "1  801888191276089344  2016-11-24   \n",
       "2  801887362787770368  2016-11-24   \n",
       "\n",
       "                                                text  \n",
       "0  RT @marceelias: I just published \\xe2\\x80\\x9cL...  \n",
       "1  I was greeted by this heartwarming display on ...  \n",
       "2  Hoping everyone has a safe &amp; Happy Thanksg...  "
      ]
     },
     "execution_count": 75,
     "metadata": {},
     "output_type": "execute_result"
    }
   ],
   "source": [
    "hil_scrape.head(3)"
   ]
  },
  {
   "cell_type": "code",
   "execution_count": 76,
   "metadata": {
    "collapsed": false
   },
   "outputs": [
    {
     "data": {
      "text/html": [
       "<div>\n",
       "<table border=\"1\" class=\"dataframe\">\n",
       "  <thead>\n",
       "    <tr style=\"text-align: right;\">\n",
       "      <th></th>\n",
       "      <th>id</th>\n",
       "      <th>created_at</th>\n",
       "      <th>text</th>\n",
       "    </tr>\n",
       "  </thead>\n",
       "  <tbody>\n",
       "    <tr>\n",
       "      <th>0</th>\n",
       "      <td>806214236053667842</td>\n",
       "      <td>2016-12-06</td>\n",
       "      <td>Masa said he would never do this had we (Trump...</td>\n",
       "    </tr>\n",
       "    <tr>\n",
       "      <th>1</th>\n",
       "      <td>806214078465245185</td>\n",
       "      <td>2016-12-06</td>\n",
       "      <td>Masa (SoftBank) of Japan has agreed to invest ...</td>\n",
       "    </tr>\n",
       "    <tr>\n",
       "      <th>2</th>\n",
       "      <td>806177746397306883</td>\n",
       "      <td>2016-12-06</td>\n",
       "      <td>Join me tonight in Fayetteville, North Carolin...</td>\n",
       "    </tr>\n",
       "  </tbody>\n",
       "</table>\n",
       "</div>"
      ],
      "text/plain": [
       "                   id  created_at  \\\n",
       "0  806214236053667842  2016-12-06   \n",
       "1  806214078465245185  2016-12-06   \n",
       "2  806177746397306883  2016-12-06   \n",
       "\n",
       "                                                text  \n",
       "0  Masa said he would never do this had we (Trump...  \n",
       "1  Masa (SoftBank) of Japan has agreed to invest ...  \n",
       "2  Join me tonight in Fayetteville, North Carolin...  "
      ]
     },
     "execution_count": 76,
     "metadata": {},
     "output_type": "execute_result"
    }
   ],
   "source": [
    "don_scrape.head(3)"
   ]
  },
  {
   "cell_type": "markdown",
   "metadata": {},
   "source": [
    "We are going to merge our two datasets together now. This requires a little bit of data manipulation in the form of making sure the tables each have the same columns. We are going to delete the ID column in the scrape table and add a handle column with the handle name. We are also going to change the name of the \"created_at\" column to \"time\" in order to match the other dataframe."
   ]
  },
  {
   "cell_type": "code",
   "execution_count": 79,
   "metadata": {
    "collapsed": false
   },
   "outputs": [],
   "source": [
    "hil_scrape.rename(columns = {'created_at':'time'}, inplace=True)\n",
    "don_scrape.rename(columns = {'created_at':'time'}, inplace=True)\n",
    "hil_scrape['handle'] = 'HillaryClinton'\n",
    "don_scrape['handle'] = 'realDonaldTrump'\n",
    "\n"
   ]
  },
  {
   "cell_type": "code",
   "execution_count": 80,
   "metadata": {
    "collapsed": true
   },
   "outputs": [],
   "source": [
    "hil_scrape = hil_scrape.drop('id',axis=1)\n",
    "don_scrape = don_scrape.drop('id',axis = 1)"
   ]
  },
  {
   "cell_type": "code",
   "execution_count": 82,
   "metadata": {
    "collapsed": false
   },
   "outputs": [
    {
     "data": {
      "text/html": [
       "<div>\n",
       "<table border=\"1\" class=\"dataframe\">\n",
       "  <thead>\n",
       "    <tr style=\"text-align: right;\">\n",
       "      <th></th>\n",
       "      <th>time</th>\n",
       "      <th>text</th>\n",
       "      <th>handle</th>\n",
       "    </tr>\n",
       "  </thead>\n",
       "  <tbody>\n",
       "    <tr>\n",
       "      <th>0</th>\n",
       "      <td>2016-11-27</td>\n",
       "      <td>RT @marceelias: I just published \\xe2\\x80\\x9cL...</td>\n",
       "      <td>HillaryClinton</td>\n",
       "    </tr>\n",
       "    <tr>\n",
       "      <th>1</th>\n",
       "      <td>2016-11-24</td>\n",
       "      <td>I was greeted by this heartwarming display on ...</td>\n",
       "      <td>HillaryClinton</td>\n",
       "    </tr>\n",
       "  </tbody>\n",
       "</table>\n",
       "</div>"
      ],
      "text/plain": [
       "         time                                               text  \\\n",
       "0  2016-11-27  RT @marceelias: I just published \\xe2\\x80\\x9cL...   \n",
       "1  2016-11-24  I was greeted by this heartwarming display on ...   \n",
       "\n",
       "           handle  \n",
       "0  HillaryClinton  \n",
       "1  HillaryClinton  "
      ]
     },
     "execution_count": 82,
     "metadata": {},
     "output_type": "execute_result"
    }
   ],
   "source": [
    "hil_scrape.head(2)"
   ]
  },
  {
   "cell_type": "code",
   "execution_count": 87,
   "metadata": {
    "collapsed": false
   },
   "outputs": [
    {
     "data": {
      "text/html": [
       "<div>\n",
       "<table border=\"1\" class=\"dataframe\">\n",
       "  <thead>\n",
       "    <tr style=\"text-align: right;\">\n",
       "      <th></th>\n",
       "      <th>time</th>\n",
       "      <th>text</th>\n",
       "      <th>handle</th>\n",
       "    </tr>\n",
       "  </thead>\n",
       "  <tbody>\n",
       "    <tr>\n",
       "      <th>0</th>\n",
       "      <td>2016-12-06</td>\n",
       "      <td>Masa said he would never do this had we (Trump...</td>\n",
       "      <td>realDonaldTrump</td>\n",
       "    </tr>\n",
       "    <tr>\n",
       "      <th>1</th>\n",
       "      <td>2016-12-06</td>\n",
       "      <td>Masa (SoftBank) of Japan has agreed to invest ...</td>\n",
       "      <td>realDonaldTrump</td>\n",
       "    </tr>\n",
       "  </tbody>\n",
       "</table>\n",
       "</div>"
      ],
      "text/plain": [
       "         time                                               text  \\\n",
       "0  2016-12-06  Masa said he would never do this had we (Trump...   \n",
       "1  2016-12-06  Masa (SoftBank) of Japan has agreed to invest ...   \n",
       "\n",
       "            handle  \n",
       "0  realDonaldTrump  \n",
       "1  realDonaldTrump  "
      ]
     },
     "execution_count": 87,
     "metadata": {},
     "output_type": "execute_result"
    }
   ],
   "source": [
    "don_scrape.head(2)"
   ]
  },
  {
   "cell_type": "markdown",
   "metadata": {},
   "source": [
    "Now that both dataframes have the same columns, we can merge them in order to get a complete list of tweets from January 5th 2016 to the present. Because we are getting the tweets through the Twitter API, we are getting way more tweets than we actually need in our scraped dataset. This will lead to duplicate values. We need to make our dataframe smaller so we are not making a dataframe with duplicate tweets. If we take a look at our datasets, we can see that the last tweet from our pre_election data for both Donald and Hillary, we can find the number of tweets we want from the dataset. We want 1417 tweets from Hillary from our scraped data, and we want 785 tweets from Donald from our scraped data.\n"
   ]
  },
  {
   "cell_type": "code",
   "execution_count": 88,
   "metadata": {
    "collapsed": true
   },
   "outputs": [],
   "source": [
    "don_scrape = don_scrape.head(785)\n",
    "hil_scrape = hil_scrape.head(1417)"
   ]
  },
  {
   "cell_type": "code",
   "execution_count": 99,
   "metadata": {
    "collapsed": false
   },
   "outputs": [
    {
     "data": {
      "text/html": [
       "<div>\n",
       "<table border=\"1\" class=\"dataframe\">\n",
       "  <thead>\n",
       "    <tr style=\"text-align: right;\">\n",
       "      <th></th>\n",
       "      <th>handle</th>\n",
       "      <th>text</th>\n",
       "      <th>time</th>\n",
       "    </tr>\n",
       "  </thead>\n",
       "  <tbody>\n",
       "    <tr>\n",
       "      <th>0</th>\n",
       "      <td>realDonaldTrump</td>\n",
       "      <td>Masa said he would never do this had we (Trump...</td>\n",
       "      <td>2016-12-06</td>\n",
       "    </tr>\n",
       "    <tr>\n",
       "      <th>1</th>\n",
       "      <td>realDonaldTrump</td>\n",
       "      <td>Masa (SoftBank) of Japan has agreed to invest ...</td>\n",
       "      <td>2016-12-06</td>\n",
       "    </tr>\n",
       "    <tr>\n",
       "      <th>2</th>\n",
       "      <td>realDonaldTrump</td>\n",
       "      <td>Join me tonight in Fayetteville, North Carolin...</td>\n",
       "      <td>2016-12-06</td>\n",
       "    </tr>\n",
       "  </tbody>\n",
       "</table>\n",
       "</div>"
      ],
      "text/plain": [
       "            handle                                               text  \\\n",
       "0  realDonaldTrump  Masa said he would never do this had we (Trump...   \n",
       "1  realDonaldTrump  Masa (SoftBank) of Japan has agreed to invest ...   \n",
       "2  realDonaldTrump  Join me tonight in Fayetteville, North Carolin...   \n",
       "\n",
       "         time  \n",
       "0  2016-12-06  \n",
       "1  2016-12-06  \n",
       "2  2016-12-06  "
      ]
     },
     "execution_count": 99,
     "metadata": {},
     "output_type": "execute_result"
    }
   ],
   "source": [
    "hil_merge = pd.concat([hil_scrape,pre_hillary], join = 'inner')\n",
    "don_merge = pd.concat([don_scrape,pre_donald], join ='inner')\n",
    "don_merge.head(3)"
   ]
  },
  {
   "cell_type": "code",
   "execution_count": 100,
   "metadata": {
    "collapsed": false
   },
   "outputs": [
    {
     "data": {
      "text/html": [
       "<div>\n",
       "<table border=\"1\" class=\"dataframe\">\n",
       "  <thead>\n",
       "    <tr style=\"text-align: right;\">\n",
       "      <th></th>\n",
       "      <th>handle</th>\n",
       "      <th>text</th>\n",
       "      <th>time</th>\n",
       "    </tr>\n",
       "  </thead>\n",
       "  <tbody>\n",
       "    <tr>\n",
       "      <th>6441</th>\n",
       "      <td>realDonaldTrump</td>\n",
       "      <td>\"@ghosthunter_lol: Iowa key endorsement for @r...</td>\n",
       "      <td>2016-01-05</td>\n",
       "    </tr>\n",
       "    <tr>\n",
       "      <th>6442</th>\n",
       "      <td>realDonaldTrump</td>\n",
       "      <td>\"@iLoveiDevices: @EdwinRo47796972 @happyjack22...</td>\n",
       "      <td>2016-01-05</td>\n",
       "    </tr>\n",
       "    <tr>\n",
       "      <th>6443</th>\n",
       "      <td>realDonaldTrump</td>\n",
       "      <td>\"@SalRiccobono: @realDonaldTrump @troyconway D...</td>\n",
       "      <td>2016-01-05</td>\n",
       "    </tr>\n",
       "  </tbody>\n",
       "</table>\n",
       "</div>"
      ],
      "text/plain": [
       "               handle                                               text  \\\n",
       "6441  realDonaldTrump  \"@ghosthunter_lol: Iowa key endorsement for @r...   \n",
       "6442  realDonaldTrump  \"@iLoveiDevices: @EdwinRo47796972 @happyjack22...   \n",
       "6443  realDonaldTrump  \"@SalRiccobono: @realDonaldTrump @troyconway D...   \n",
       "\n",
       "            time  \n",
       "6441  2016-01-05  \n",
       "6442  2016-01-05  \n",
       "6443  2016-01-05  "
      ]
     },
     "execution_count": 100,
     "metadata": {},
     "output_type": "execute_result"
    }
   ],
   "source": [
    "don_merge.tail(3)"
   ]
  },
  {
   "cell_type": "markdown",
   "metadata": {},
   "source": [
    "Great! Now we have complete dataframes of both of tweets from January 5th 2016 to December 2016. Our next step will be to split them up from pre-election and post-election and then do our sentiment analysis based on those time periods. But first, let's convert these dates into Pandas datetime in order to make it easier\n"
   ]
  },
  {
   "cell_type": "code",
   "execution_count": 101,
   "metadata": {
    "collapsed": true
   },
   "outputs": [],
   "source": [
    "import datetime\n",
    "don_merge['time'] = pd.to_datetime(don_merge['time'])\n",
    "hil_merge['time'] = pd.to_datetime(hil_merge['time'])"
   ]
  },
  {
   "cell_type": "code",
   "execution_count": 102,
   "metadata": {
    "collapsed": false
   },
   "outputs": [
    {
     "data": {
      "text/html": [
       "<div>\n",
       "<table border=\"1\" class=\"dataframe\">\n",
       "  <thead>\n",
       "    <tr style=\"text-align: right;\">\n",
       "      <th></th>\n",
       "      <th>handle</th>\n",
       "      <th>text</th>\n",
       "      <th>time</th>\n",
       "    </tr>\n",
       "  </thead>\n",
       "  <tbody>\n",
       "    <tr>\n",
       "      <th>0</th>\n",
       "      <td>realDonaldTrump</td>\n",
       "      <td>Masa said he would never do this had we (Trump...</td>\n",
       "      <td>2016-12-06</td>\n",
       "    </tr>\n",
       "    <tr>\n",
       "      <th>1</th>\n",
       "      <td>realDonaldTrump</td>\n",
       "      <td>Masa (SoftBank) of Japan has agreed to invest ...</td>\n",
       "      <td>2016-12-06</td>\n",
       "    </tr>\n",
       "  </tbody>\n",
       "</table>\n",
       "</div>"
      ],
      "text/plain": [
       "            handle                                               text  \\\n",
       "0  realDonaldTrump  Masa said he would never do this had we (Trump...   \n",
       "1  realDonaldTrump  Masa (SoftBank) of Japan has agreed to invest ...   \n",
       "\n",
       "        time  \n",
       "0 2016-12-06  \n",
       "1 2016-12-06  "
      ]
     },
     "execution_count": 102,
     "metadata": {},
     "output_type": "execute_result"
    }
   ],
   "source": [
    "don_merge.head(2)"
   ]
  },
  {
   "cell_type": "code",
   "execution_count": 108,
   "metadata": {
    "collapsed": false
   },
   "outputs": [
    {
     "data": {
      "text/html": [
       "<div>\n",
       "<table border=\"1\" class=\"dataframe\">\n",
       "  <thead>\n",
       "    <tr style=\"text-align: right;\">\n",
       "      <th></th>\n",
       "      <th>handle</th>\n",
       "      <th>text</th>\n",
       "      <th>time</th>\n",
       "    </tr>\n",
       "  </thead>\n",
       "  <tbody>\n",
       "    <tr>\n",
       "      <th>6442</th>\n",
       "      <td>realDonaldTrump</td>\n",
       "      <td>\"@iLoveiDevices: @EdwinRo47796972 @happyjack22...</td>\n",
       "      <td>2016-01-05</td>\n",
       "    </tr>\n",
       "    <tr>\n",
       "      <th>6443</th>\n",
       "      <td>realDonaldTrump</td>\n",
       "      <td>\"@SalRiccobono: @realDonaldTrump @troyconway D...</td>\n",
       "      <td>2016-01-05</td>\n",
       "    </tr>\n",
       "  </tbody>\n",
       "</table>\n",
       "</div>"
      ],
      "text/plain": [
       "               handle                                               text  \\\n",
       "6442  realDonaldTrump  \"@iLoveiDevices: @EdwinRo47796972 @happyjack22...   \n",
       "6443  realDonaldTrump  \"@SalRiccobono: @realDonaldTrump @troyconway D...   \n",
       "\n",
       "           time  \n",
       "6442 2016-01-05  \n",
       "6443 2016-01-05  "
      ]
     },
     "execution_count": 108,
     "metadata": {},
     "output_type": "execute_result"
    }
   ],
   "source": [
    "don_merge.tail(2)"
   ]
  },
  {
   "cell_type": "markdown",
   "metadata": {},
   "source": [
    "If we look at our Donald dataframe, we can see that we should  seperate the first 122 entries from the last 3881 in order to get a complete dataframe of pre-election tweets and post-election tweets. \n",
    "\n",
    "If we look at our Hillary dataframe, we can see that we should seperate the first 29 entries from the last 4614 entries in order to get a complete dataframe of pre-election and post-election tweets."
   ]
  },
  {
   "cell_type": "code",
   "execution_count": 132,
   "metadata": {
    "collapsed": false
   },
   "outputs": [],
   "source": [
    "pre_election_don = don_merge.tail(3881)\n",
    "post_election_don = don_merge.head(122)\n",
    "\n",
    "pre_election_hil = hil_merge.tail(4614)\n",
    "post_eleciton_hil = hil_merge.head(29)"
   ]
  },
  {
   "cell_type": "markdown",
   "metadata": {},
   "source": [
    "Now that we have our four dataframes, two for Hillary and two for Donald, we can start to do our sentiment analysis! For our sentiment anaylis, I am using the machine learning API from the following website: \n",
    "\n",
    "http://www.datumbox.com/machine-learning-api/\n",
    "\n",
    "I will send a request with text to the API and will receive a JSON response with the sentiment of the request. First, let's define a function to make a call to the API. The documentation for the API can be found here:\n",
    "\n",
    "http://www.datumbox.com/files/API-Documentation-1.0v.pdf\n",
    "\n",
    "The reason for the if statement is because we want to first check if status is set to 1 before trying to access the result key, because if status is set to 0 there won't be a key:"
   ]
  },
  {
   "cell_type": "code",
   "execution_count": 179,
   "metadata": {
    "collapsed": false
   },
   "outputs": [],
   "source": [
    "def call(text):\n",
    "    api_key = '1645ffbd01ce56be8d448fe8cd6a7ce2'\n",
    "    base_url = \"http://api.datumbox.com/1.0/TwitterSentimentAnalysis.json?\"\n",
    "    response = requests.get(base_url+'api_key='+api_key+'&'+'text='+text)\n",
    "    data = response.json()\n",
    "    if data['output']['status']:\n",
    "        return data['output']['result']\n",
    "    else:\n",
    "        raise SomeException('No result, error {0[ErrorCode]}, {0[ErrorMessage]!r}'.format(\n",
    "            data['output']['error']))"
   ]
  },
  {
   "cell_type": "markdown",
   "metadata": {},
   "source": [
    "So now we have a function that we can use to find the sentiment of our tweets. Now, let's make some dictionaries so we can get a count of how many tweets are positive, neutral or negative."
   ]
  },
  {
   "cell_type": "code",
   "execution_count": 158,
   "metadata": {
    "collapsed": true
   },
   "outputs": [],
   "source": [
    "pre_hil_dic = {}\n",
    "pre_hil_dic['positive'] = 0\n",
    "pre_hil_dic['negative'] = 0\n",
    "pre_hil_dic['neutral'] = 0\n",
    "\n",
    "pre_trump_dic = {}\n",
    "pre_trump_dic['positive'] = 0\n",
    "pre_trump_dic['negative'] = 0\n",
    "pre_trump_dic['neutral'] = 0\n",
    "\n",
    "post_hil_dic = {}\n",
    "post_hil_dic['positive'] = 0\n",
    "post_hil_dic['negative'] = 0\n",
    "post_hil_dic['neutral'] = 0\n",
    "\n",
    "post_trump_dic = {}\n",
    "post_trump_dic['positive'] = 0\n",
    "post_trump_dic['negative'] = 0\n",
    "post_trump_dic['neutral'] = 0"
   ]
  },
  {
   "cell_type": "markdown",
   "metadata": {},
   "source": [
    "Now that we have our dictionaries, we can iterate through our tweets and get a count of of the sentiment. Because we are limited to 1000 calls per day of the API, we cannot do sentiment anaylsis for all the tweets as planned. Instead, we will only iterate through 350 of each Donald and Hillary's pre-election tweets, and the remainder of their post-election tweets. I chose the number 350 because it will allow us to still call the API after the iterations, if needed. "
   ]
  },
  {
   "cell_type": "code",
   "execution_count": 164,
   "metadata": {
    "collapsed": false
   },
   "outputs": [
    {
     "name": "stdout",
     "output_type": "stream",
     "text": [
      "25\n",
      "50\n",
      "75\n",
      "100\n",
      "125\n",
      "150\n",
      "175\n",
      "200\n",
      "225\n",
      "250\n",
      "275\n",
      "300\n",
      "325\n",
      "350\n"
     ]
    }
   ],
   "source": [
    "count = 0\n",
    "for tweet in pre_election_hil['text'].head(350):\n",
    "    count = count + 1\n",
    "    if count % 25 == 0:\n",
    "        print(count)\n",
    "    if call(tweet) == 'neutral':\n",
    "        pre_hil_dic['neutral'] = pre_hil_dic['neutral'] + 1\n",
    "    elif call(tweet) == 'positive':\n",
    "        pre_hil_dic['positive'] = pre_hil_dic['positive'] + 1\n",
    "    elif call(tweet) == 'negative':\n",
    "        pre_hil_dic['negative'] = pre_hil_dic['negative'] + 1\n"
   ]
  },
  {
   "cell_type": "code",
   "execution_count": 183,
   "metadata": {
    "collapsed": false
   },
   "outputs": [
    {
     "name": "stdout",
     "output_type": "stream",
     "text": [
      "25\n",
      "50\n",
      "75\n",
      "100\n",
      "125\n",
      "150\n",
      "175\n",
      "200\n",
      "225\n",
      "250\n",
      "275\n",
      "300\n",
      "325\n",
      "350\n"
     ]
    }
   ],
   "source": [
    "count = 0\n",
    "for tweet in pre_election_don['text'].head(350):\n",
    "    count = count + 1\n",
    "    if count % 25 == 0:\n",
    "        print(count)\n",
    "    if call(tweet) == 'neutral':\n",
    "        pre_trump_dic['neutral'] = pre_trump_dic['neutral'] + 1\n",
    "    elif call(tweet) == 'positive':\n",
    "        pre_trump_dic['positive'] = pre_trump_dic['positive'] + 1\n",
    "    elif call(tweet) == 'negative':\n",
    "        pre_trump_dic['negative'] = pre_trump_dic['negative'] + 1\n",
    "\n"
   ]
  },
  {
   "cell_type": "code",
   "execution_count": 184,
   "metadata": {
    "collapsed": false
   },
   "outputs": [
    {
     "name": "stdout",
     "output_type": "stream",
     "text": [
      "25\n",
      "50\n",
      "75\n",
      "100\n"
     ]
    }
   ],
   "source": [
    "count = 0\n",
    "for tweet in post_election_don['text']:\n",
    "    count = count + 1\n",
    "    if count % 25 == 0:\n",
    "        print(count)\n",
    "    if call(tweet) == 'neutral':\n",
    "        post_trump_dic['neutral'] = post_trump_dic['neutral'] + 1\n",
    "    elif call(tweet) == 'positive':\n",
    "        post_trump_dic['positive'] = post_trump_dic['positive'] + 1\n",
    "    elif call(tweet) == 'negative':\n",
    "        post_trump_dic['negative'] = post_trump_dic['negative'] + 1\n"
   ]
  },
  {
   "cell_type": "code",
   "execution_count": 192,
   "metadata": {
    "collapsed": false
   },
   "outputs": [],
   "source": [
    "count = 0\n",
    "for tweet in post_eleciton_hil:\n",
    "    count = count + 1\n",
    "    if call(tweet) == 'neutral':\n",
    "        post_hil_dic['neutral'] = post_hil_dic['neutral'] + 1\n",
    "    elif call(tweet) == 'positive':\n",
    "        post_hil_dic['positive'] = post_hil_dic['positive'] + 1\n",
    "    elif call(tweet) == 'negative':\n",
    "        post_hil_dic['negative'] = post_hil_dic['negative'] + 1\n"
   ]
  },
  {
   "cell_type": "markdown",
   "metadata": {},
   "source": [
    "Great. Not that we have iterated through each of our dataframes, we can look at the results.\n"
   ]
  },
  {
   "cell_type": "code",
   "execution_count": 169,
   "metadata": {
    "collapsed": false
   },
   "outputs": [
    {
     "data": {
      "text/plain": [
       "{'negative': 37, 'neutral': 142, 'positive': 118}"
      ]
     },
     "execution_count": 169,
     "metadata": {},
     "output_type": "execute_result"
    }
   ],
   "source": [
    "pre_trump_dic"
   ]
  },
  {
   "cell_type": "code",
   "execution_count": 186,
   "metadata": {
    "collapsed": false
   },
   "outputs": [
    {
     "data": {
      "text/plain": [
       "{'negative': 21, 'neutral': 53, 'positive': 48}"
      ]
     },
     "execution_count": 186,
     "metadata": {},
     "output_type": "execute_result"
    }
   ],
   "source": [
    "post_trump_dic"
   ]
  },
  {
   "cell_type": "code",
   "execution_count": 187,
   "metadata": {
    "collapsed": false
   },
   "outputs": [
    {
     "data": {
      "text/plain": [
       "{'negative': 1, 'neutral': 0, 'positive': 2}"
      ]
     },
     "execution_count": 187,
     "metadata": {},
     "output_type": "execute_result"
    }
   ],
   "source": [
    "post_hil_dic"
   ]
  },
  {
   "cell_type": "code",
   "execution_count": 188,
   "metadata": {
    "collapsed": false
   },
   "outputs": [
    {
     "data": {
      "text/plain": [
       "{'negative': 31, 'neutral': 264, 'positive': 144}"
      ]
     },
     "execution_count": 188,
     "metadata": {},
     "output_type": "execute_result"
    }
   ],
   "source": [
    "pre_hil_dic"
   ]
  },
  {
   "cell_type": "markdown",
   "metadata": {},
   "source": [
    "Great. Now let's take a look at our results\n",
    "\n",
    "## Pre_Trump_Dic:\n",
    "\n",
    "37/297 = 12.45% of tweets are negative. \n",
    "\n",
    "142/297 = 47.81% of tweets are neutral.\n",
    "\n",
    "118/297 = 39.73% of tweets are positive.\n",
    "\n",
    "## Post_Trump_Dic: \n",
    "\n",
    "21/122 = 17.21% of tweets are negative\n",
    "\n",
    "53/122 = 42.44% of tweets are neutral \n",
    "\n",
    "48/122 = 39.34% of tweets are positive\n",
    "\n",
    "## Pre_Hil_Dic:\n",
    "\n",
    "31/439 = 7.63% of tweets are negative \n",
    "\n",
    "264/439 = 60% of tweets are neutral \n",
    "\n",
    "144/439 = 32.36% of tweets are positive\n",
    "\n",
    "## Post_Hil_Dic:\n",
    "\n",
    "1/3 = 33% of tweets are negative \n",
    "\n",
    "0/3 = 0% of tweets are neutral\n",
    "\n",
    "2/3 = 66% of tweets are positive"
   ]
  },
  {
   "cell_type": "markdown",
   "metadata": {},
   "source": [
    "\n",
    "Very interesting. However, we can make this easier to look at by making pie charts for anaylsis. Because of time, I won't be using a module like Seaborn, instead I will be using https://www.meta-chart.com/ which is a cool website that allows you to create pie charts. A pie chart is the best choice for our data because we have percentages."
   ]
  },
  {
   "cell_type": "code",
   "execution_count": 200,
   "metadata": {
    "collapsed": false
   },
   "outputs": [
    {
     "data": {
      "text/html": [
       "<img src=\"pre_don.png\"/>"
      ],
      "text/plain": [
       "<IPython.core.display.Image object>"
      ]
     },
     "execution_count": 200,
     "metadata": {},
     "output_type": "execute_result"
    }
   ],
   "source": [
    "Image(url= \"pre_don.png\")"
   ]
  },
  {
   "cell_type": "code",
   "execution_count": 201,
   "metadata": {
    "collapsed": false
   },
   "outputs": [
    {
     "data": {
      "text/html": [
       "<img src=\"post_don.png\"/>"
      ],
      "text/plain": [
       "<IPython.core.display.Image object>"
      ]
     },
     "execution_count": 201,
     "metadata": {},
     "output_type": "execute_result"
    }
   ],
   "source": [
    "Image(url= \"post_don.png\")"
   ]
  },
  {
   "cell_type": "markdown",
   "metadata": {
    "collapsed": false
   },
   "source": [
    "Wow, very intresting. Since the election, Donald has gotten more negative and less positive. He has stayed as neutral as he was before. Let's take a look at Hillary's graphs"
   ]
  },
  {
   "cell_type": "code",
   "execution_count": 211,
   "metadata": {
    "collapsed": false
   },
   "outputs": [
    {
     "data": {
      "text/html": [
       "<img src=\"prehil.jpg\"/>"
      ],
      "text/plain": [
       "<IPython.core.display.Image object>"
      ]
     },
     "execution_count": 211,
     "metadata": {},
     "output_type": "execute_result"
    }
   ],
   "source": [
    "Image(url= \"prehil.jpg\")"
   ]
  },
  {
   "cell_type": "code",
   "execution_count": 209,
   "metadata": {
    "collapsed": false
   },
   "outputs": [
    {
     "data": {
      "text/html": [
       "<img src=\"post_hil.png\"/>"
      ],
      "text/plain": [
       "<IPython.core.display.Image object>"
      ]
     },
     "execution_count": 209,
     "metadata": {},
     "output_type": "execute_result"
    }
   ],
   "source": [
    "Image(url= \"post_hil.png\")"
   ]
  },
  {
   "cell_type": "markdown",
   "metadata": {},
   "source": [
    "Great. Because Hillary has only tweeted 21 times since the Election, our results are going to be a little off. We can see that since the election, Hillary has tweeted more positive messages."
   ]
  },
  {
   "cell_type": "markdown",
   "metadata": {},
   "source": [
    "## Conclusion"
   ]
  },
  {
   "cell_type": "markdown",
   "metadata": {},
   "source": [
    "There is definitely a bunch of things I would have done differently with my project if I had more time. Firstly, one of my setbacks was that the datumbox API can only be used 1000 times a day. If I had more time, I would have used another method for sentiment analysis that could iterate through all the tweets at once. Another thing I would do differently if I had more time would be using the Seaborn module to create the pie charts. Lastly, if I could switch another aspect it would definitely be that I would wait another couple months to do my analysis. Because we are still pretty close to November 8th, Hillary has been extremely quiet on Twitter, unlike Donald. This sort of screwed up some of my results, because there were only three Hillary tweets that got a response from the API. Overall, I really enjoyed doing this project and some cool data analysis about the candidates."
   ]
  },
  {
   "cell_type": "code",
   "execution_count": null,
   "metadata": {
    "collapsed": true
   },
   "outputs": [],
   "source": []
  }
 ],
 "metadata": {
  "anaconda-cloud": {},
  "kernelspec": {
   "display_name": "Python [python3]",
   "language": "python",
   "name": "Python [python3]"
  },
  "language_info": {
   "codemirror_mode": {
    "name": "ipython",
    "version": 3
   },
   "file_extension": ".py",
   "mimetype": "text/x-python",
   "name": "python",
   "nbconvert_exporter": "python",
   "pygments_lexer": "ipython3",
   "version": "3.5.2"
  }
 },
 "nbformat": 4,
 "nbformat_minor": 0
}
